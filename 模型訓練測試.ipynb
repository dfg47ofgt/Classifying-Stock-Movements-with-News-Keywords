{
 "cells": [
  {
   "cell_type": "markdown",
   "id": "2f3bc8af",
   "metadata": {},
   "source": [
    "# 載入相關套件"
   ]
  },
  {
   "cell_type": "code",
   "execution_count": 47,
   "id": "9021f7fe",
   "metadata": {},
   "outputs": [],
   "source": [
    "import pandas as pd\n",
    "import datetime\n",
    "from dateutil.relativedelta import relativedelta\n",
    "import numpy as np"
   ]
  },
  {
   "cell_type": "code",
   "execution_count": 48,
   "id": "8749398c",
   "metadata": {},
   "outputs": [],
   "source": [
    "from sklearn import metrics \n",
    "from sklearn.metrics import accuracy_score\n",
    "\n",
    "from sklearn.metrics import confusion_matrix  \n",
    "from sklearn.metrics import classification_report  "
   ]
  },
  {
   "cell_type": "code",
   "execution_count": 49,
   "id": "7b0cda48",
   "metadata": {},
   "outputs": [],
   "source": [
    "from sklearn.model_selection import train_test_split\n",
    "\n",
    "from sklearn.feature_extraction.text import TfidfVectorizer\n",
    "from sklearn.feature_selection import SelectKBest\n",
    "from sklearn.feature_selection import chi2\n",
    "\n",
    "from sklearn.tree import DecisionTreeClassifier\n",
    "from sklearn.naive_bayes import MultinomialNB\n",
    "from sklearn.neighbors import KNeighborsClassifier\n",
    "from sklearn.svm import SVC\n",
    "from sklearn.ensemble import GradientBoostingClassifier\n",
    "from sklearn.ensemble import RandomForestClassifier, AdaBoostClassifier\n",
    "from sklearn.naive_bayes import GaussianNB\n",
    "from sklearn.neural_network import MLPClassifier\n"
   ]
  },
  {
   "cell_type": "markdown",
   "id": "9cd43d8e",
   "metadata": {},
   "source": [
    "# 讀取資料集與keyword"
   ]
  },
  {
   "cell_type": "code",
   "execution_count": 50,
   "id": "b5a950d2",
   "metadata": {},
   "outputs": [],
   "source": [
    "# 讀取training csv文件\n",
    "file = \"traing_df_2609.csv\"\n",
    "news_df = pd.read_csv('./output/'+file,encoding='utf-8-sig')"
   ]
  },
  {
   "cell_type": "code",
   "execution_count": 51,
   "id": "abdfc03a",
   "metadata": {},
   "outputs": [],
   "source": [
    "news_df['post_time'] = pd.to_datetime(news_df['post_time']).dt.date"
   ]
  },
  {
   "cell_type": "code",
   "execution_count": 52,
   "id": "d52a0e93",
   "metadata": {},
   "outputs": [],
   "source": [
    "#讀取關鍵字\n",
    "term_df = pd.read_csv('./output/2609_selected_keywords_n14_chi_in_lda.csv',encoding='utf-8-sig')\n",
    "\n",
    "#轉換為dict\n",
    "term_dict = term_df['keyword'].to_dict()\n",
    "term_dict = {v: k for k, v in term_dict.items()}"
   ]
  },
  {
   "cell_type": "code",
   "execution_count": 28,
   "id": "7114de04",
   "metadata": {},
   "outputs": [
    {
     "name": "stdout",
     "output_type": "stream",
     "text": [
      "keyword length: 284\n",
      "<class 'pandas.core.frame.DataFrame'>\n",
      "RangeIndex: 7248 entries, 0 to 7247\n",
      "Data columns (total 3 columns):\n",
      " #   Column     Non-Null Count  Dtype  \n",
      "---  ------     --------------  -----  \n",
      " 0   post_time  7248 non-null   object \n",
      " 1   content    7248 non-null   object \n",
      " 2   標記         7248 non-null   float64\n",
      "dtypes: float64(1), object(2)\n",
      "memory usage: 170.0+ KB\n"
     ]
    }
   ],
   "source": [
    "print('keyword length:',len(term_dict))\n",
    "news_df.info()"
   ]
  },
  {
   "cell_type": "code",
   "execution_count": 53,
   "id": "44b860e2",
   "metadata": {},
   "outputs": [
    {
     "data": {
      "text/plain": [
       "0.0    3809\n",
       "1.0    3439\n",
       "Name: 標記, dtype: int64"
      ]
     },
     "execution_count": 53,
     "metadata": {},
     "output_type": "execute_result"
    }
   ],
   "source": [
    "news_df['標記'].value_counts()"
   ]
  },
  {
   "cell_type": "markdown",
   "id": "9cc9aa0a",
   "metadata": {},
   "source": [
    "# 建立空間向量模型，訓練分類器"
   ]
  },
  {
   "cell_type": "code",
   "execution_count": 54,
   "id": "78e031ac",
   "metadata": {},
   "outputs": [],
   "source": [
    "#建vsm\n",
    "vectorizer = TfidfVectorizer(vocabulary=term_dict,use_idf=True)"
   ]
  },
  {
   "cell_type": "code",
   "execution_count": 55,
   "id": "22a2a388",
   "metadata": {},
   "outputs": [],
   "source": [
    "#fit 所有資料\n",
    "X = vectorizer.fit_transform(news_df['content']) \n",
    "X = pd.DataFrame(X.toarray(),columns=term_dict)\n",
    "y = news_df['標記']\n"
   ]
  },
  {
   "cell_type": "markdown",
   "id": "ad1d8d26",
   "metadata": {},
   "source": [
    "* 訓練9種不同classifier模型"
   ]
  },
  {
   "cell_type": "code",
   "execution_count": 56,
   "id": "61312f11",
   "metadata": {},
   "outputs": [
    {
     "name": "stdout",
     "output_type": "stream",
     "text": [
      "Classifier: MultinomialNB\n",
      "Score (X_train, y_train): 0.6422904449810279\n",
      "Score (y_test, y_pred): 0.6393103448275862\n",
      "[[356 312]\n",
      " [211 571]]\n",
      "\n",
      "\n",
      "\n",
      "Classifier: GaussianNB\n",
      "Score (X_train, y_train): 0.6450500172473267\n",
      "Score (y_test, y_pred): 0.6179310344827587\n",
      "[[394 274]\n",
      " [280 502]]\n",
      "\n",
      "\n",
      "\n",
      "Classifier: GradientBoostingClassifier\n",
      "Score (X_train, y_train): 0.8539151431528114\n",
      "Score (y_test, y_pred): 0.6268965517241379\n",
      "[[379 289]\n",
      " [252 530]]\n",
      "\n",
      "\n",
      "\n",
      "Classifier: KNeighborsClassifier\n",
      "Score (X_train, y_train): 0.7124870645050018\n",
      "Score (y_test, y_pred): 0.6137931034482759\n",
      "[[333 335]\n",
      " [225 557]]\n",
      "\n",
      "\n",
      "\n",
      "Classifier: DecisionTreeClassifier\n",
      "Score (X_train, y_train): 0.9865470852017937\n",
      "Score (y_test, y_pred): 0.5958620689655172\n",
      "[[375 293]\n",
      " [293 489]]\n",
      "\n",
      "\n",
      "\n",
      "Classifier: SVC\n",
      "Score (X_train, y_train): 0.677302518109693\n",
      "Score (y_test, y_pred): 0.64\n",
      "[[374 294]\n",
      " [228 554]]\n",
      "\n",
      "\n",
      "\n",
      "Classifier: RandomForestClassifier\n",
      "Score (X_train, y_train): 0.6416005519144533\n",
      "Score (y_test, y_pred): 0.6213793103448276\n",
      "[[186 482]\n",
      " [ 67 715]]\n",
      "\n",
      "\n",
      "\n",
      "Classifier: AdaBoostClassifier\n",
      "Score (X_train, y_train): 0.6691962745774405\n",
      "Score (y_test, y_pred): 0.6241379310344828\n",
      "[[299 369]\n",
      " [176 606]]\n",
      "\n",
      "\n",
      "\n",
      "Classifier: MLPClassifier\n",
      "Score (X_train, y_train): 0.6695412211107279\n",
      "Score (y_test, y_pred): 0.6351724137931034\n",
      "[[378 290]\n",
      " [239 543]]\n",
      "\n",
      "\n",
      "\n"
     ]
    }
   ],
   "source": [
    "def train_and_evaluate_classifier(classifier, X_train, y_train, X_test, y_test):\n",
    "    print(\"Classifier:\", type(classifier).__name__)\n",
    "    classifier.fit(X_train, y_train)\n",
    "    print(\"Score (X_train, y_train):\", classifier.score(X_train, y_train))\n",
    "\n",
    "    y_pred = classifier.predict(X_test)\n",
    "    print(\"Score (y_test, y_pred):\", accuracy_score(y_test, y_pred))\n",
    "\n",
    "    print(confusion_matrix(y_test, y_pred, labels=[1, 0]))\n",
    "    print(\"\\n\\n\")\n",
    "\n",
    "classifier_list = [\n",
    "    MultinomialNB(),\n",
    "    GaussianNB(),\n",
    "    GradientBoostingClassifier(n_estimators=100, learning_rate=1, max_depth=3, random_state=0),\n",
    "    KNeighborsClassifier(n_neighbors=7),\n",
    "    DecisionTreeClassifier(criterion=\"entropy\"),\n",
    "    SVC(kernel='linear'),\n",
    "    RandomForestClassifier(max_depth=5, n_estimators=50),\n",
    "    AdaBoostClassifier(),\n",
    "    MLPClassifier(alpha=1, max_iter=1000),\n",
    "]\n",
    "\n",
    "#拆分 80% 20% 訓練測試資料\n",
    "X_train, X_test, y_train, y_test = train_test_split(X, y, train_size=0.8)\n",
    "\n",
    "for classifier in classifier_list:\n",
    "    train_and_evaluate_classifier(classifier, X_train, y_train, X_test, y_test)"
   ]
  },
  {
   "cell_type": "markdown",
   "id": "fc42b673",
   "metadata": {},
   "source": [
    "# 回測"
   ]
  },
  {
   "cell_type": "markdown",
   "id": "0918d583",
   "metadata": {},
   "source": [
    "* 分資料區間"
   ]
  },
  {
   "cell_type": "code",
   "execution_count": 57,
   "id": "90712171",
   "metadata": {},
   "outputs": [],
   "source": [
    "train_for_epoch = 4\n",
    "test_for_epoch = 1"
   ]
  },
  {
   "cell_type": "code",
   "execution_count": 58,
   "id": "c3f4c0db",
   "metadata": {},
   "outputs": [],
   "source": [
    "# 建構list儲存每次回測要用的train val資料\n",
    "train_data_list = []\n",
    "validation_data_list = []\n",
    "date_list = []\n",
    "\n",
    "# 4個月為訓練，一個月為測試\n",
    "for month_offset in range(0, 36):  \n",
    "    train_start = pd.Timestamp(year=2020, month=1, day=1) + pd.DateOffset(months=month_offset)\n",
    "    train_end = train_start + pd.DateOffset(months=train_for_epoch, days=-1)\n",
    "    validation_start = train_end + pd.DateOffset(days=1)\n",
    "    validation_end = validation_start + pd.DateOffset(months=test_for_epoch, days=-1)\n",
    "\n",
    "    #切每次test,val的資料\n",
    "    t = news_df[news_df['post_time'].between(train_start.date(), train_end.date())]\n",
    "    v = news_df[news_df['post_time'].between(validation_start.date(), validation_end.date())]\n",
    "    \n",
    "    if len(t) != 0 and len(v) != 0:\n",
    "        t_str = str(train_start.date()) +\"_\"+ str(train_end.date())\n",
    "        train_data_list.append(t)\n",
    "        validation_data_list.append(v)\n",
    "        date_list.append(t_str)\n"
   ]
  },
  {
   "cell_type": "code",
   "execution_count": 59,
   "id": "26a20423",
   "metadata": {},
   "outputs": [],
   "source": [
    "def train_data(train, val):\n",
    "    train_content = train['content']\n",
    "    valid_content = val['content']\n",
    "    \n",
    "    # 建構空間向量\n",
    "    X = vectorizer.fit_transform(train_content)\n",
    "    X = pd.DataFrame(X.toarray(), columns=term_dict)\n",
    "    y = train['標記']\n",
    "    \n",
    "    X_train, X_test, y_train, y_test = train_test_split(X, y, train_size=0.8)\n",
    "    \n",
    "    # 定義分類器\n",
    "    classifier = RandomForestClassifier(max_depth=5, n_estimators=50)\n",
    "    classifier.fit(X_train, y_train)\n",
    "    \n",
    "    # 預測結果\n",
    "    y_pred = classifier.predict(X_test)\n",
    "    \n",
    "    X_val = vectorizer.fit_transform(valid_content)\n",
    "    X_val = pd.DataFrame(X_val.toarray(), columns=term_dict)\n",
    "    \n",
    "    y_val = val['標記']\n",
    "    y_pre = classifier.predict(X_val)\n",
    "    \n",
    "    val['預測標記'] = y_pre\n",
    "    \n",
    "    return classifier, X_test, y_test, y_pred, y_val, y_pre, val"
   ]
  },
  {
   "cell_type": "code",
   "execution_count": 60,
   "id": "ddb8d33f",
   "metadata": {},
   "outputs": [],
   "source": [
    "def calculate_accuracy_and_shooting_rate(v_df):\n",
    "    # 初始化計數器\n",
    "    shooting = 0\n",
    "    acc_count = 0\n",
    "    shooting_rate = 0\n",
    "    accuracy_rate = 0\n",
    "    # 遍歷每一行，檢查條件並計數\n",
    "    for _, row in v_df.iterrows():\n",
    "        if row['max_count_ratio'] >= 0.7:\n",
    "            shooting += 1\n",
    "            if row['pred_index'] == row['true_index']:\n",
    "                acc_count += 1\n",
    "\n",
    "    # 計算出手率和準確率\n",
    "    if shooting!=0:\n",
    "        shooting_rate = (shooting / len(v_df) ) * 100\n",
    "        accuracy_rate = (acc_count / shooting) * 100\n",
    "    \n",
    "    return shooting_rate,accuracy_rate"
   ]
  },
  {
   "cell_type": "markdown",
   "id": "1b94f5f0",
   "metadata": {},
   "source": [
    "* 做回測，應用Random Forest作為分類器"
   ]
  },
  {
   "cell_type": "code",
   "execution_count": 61,
   "id": "af4fa721",
   "metadata": {},
   "outputs": [
    {
     "name": "stdout",
     "output_type": "stream",
     "text": [
      "Score (X_train, y_train): 0.4780958951362539\n",
      "Score (X_test, y_test): 0.75\n",
      "Score (X_val, y_val): 0.0\n",
      "\n",
      "\n",
      "\n",
      "Score (X_train, y_train): 0.4872369782683684\n",
      "Score (X_test, y_test): 0.7272727272727273\n",
      "Score (X_val, y_val): 0.4540540540540541\n",
      "\n",
      "\n",
      "\n",
      "Score (X_train, y_train): 0.5027595722662987\n",
      "Score (X_test, y_test): 0.6691176470588235\n",
      "Score (X_val, y_val): 0.278118609406953\n",
      "\n",
      "\n",
      "\n",
      "Score (X_train, y_train): 0.5534667126595377\n",
      "Score (X_test, y_test): 0.6196581196581197\n",
      "Score (X_val, y_val): 0.6142241379310345\n",
      "\n",
      "\n",
      "\n",
      "Score (X_train, y_train): 0.5289755087961366\n",
      "Score (X_test, y_test): 0.713855421686747\n",
      "Score (X_val, y_val): 0.9951278928136419\n",
      "\n",
      "\n",
      "\n",
      "Score (X_train, y_train): 0.5220765781303898\n",
      "Score (X_test, y_test): 0.7608247422680412\n",
      "Score (X_val, y_val): 0.321451717433571\n",
      "\n",
      "\n",
      "\n",
      "Score (X_train, y_train): 0.5703690927906174\n",
      "Score (X_test, y_test): 0.631439894319683\n",
      "Score (X_val, y_val): 0.6873661670235546\n",
      "\n",
      "\n",
      "\n",
      "Score (X_train, y_train): 0.5757157640565712\n",
      "Score (X_test, y_test): 0.6289893617021277\n",
      "Score (X_val, y_val): 0.27808988764044945\n",
      "\n",
      "\n",
      "\n",
      "Score (X_train, y_train): 0.6222835460503622\n",
      "Score (X_test, y_test): 0.6692789968652038\n",
      "Score (X_val, y_val): 0.498371335504886\n",
      "\n",
      "\n",
      "\n",
      "Score (X_train, y_train): 0.4913763366678165\n",
      "Score (X_test, y_test): 0.6336448598130842\n",
      "Score (X_val, y_val): 0.3551020408163265\n",
      "\n",
      "\n",
      "\n",
      "Score (X_train, y_train): 0.5872714729216971\n",
      "Score (X_test, y_test): 0.6218181818181818\n",
      "Score (X_val, y_val): 0.5\n",
      "\n",
      "\n",
      "\n",
      "Score (X_train, y_train): 0.5281131424629183\n",
      "Score (X_test, y_test): 0.6632653061224489\n",
      "Score (X_val, y_val): 0.9\n",
      "\n",
      "\n",
      "\n",
      "Score (X_train, y_train): 0.5432907899275612\n",
      "Score (X_test, y_test): 0.6834532374100719\n",
      "Score (X_val, y_val): 0.5757575757575758\n",
      "\n",
      "\n",
      "\n",
      "Score (X_train, y_train): 0.546567781993791\n",
      "Score (X_test, y_test): 0.5384615384615384\n",
      "Score (X_val, y_val): 0.5527065527065527\n",
      "\n",
      "\n",
      "\n",
      "Score (X_train, y_train): 0.5505346671265954\n",
      "Score (X_test, y_test): 0.6339285714285714\n",
      "Score (X_val, y_val): 0.7431192660550459\n",
      "\n",
      "\n",
      "\n",
      "Score (X_train, y_train): 0.5507071403932391\n",
      "Score (X_test, y_test): 0.625\n",
      "Score (X_val, y_val): 0.95\n",
      "\n",
      "\n",
      "\n",
      "Score (X_train, y_train): 0.5244912038634012\n",
      "Score (X_test, y_test): 0.5614035087719298\n",
      "Score (X_val, y_val): 0.20242914979757085\n",
      "\n",
      "\n",
      "\n",
      "Score (X_train, y_train): 0.5629527423249396\n",
      "Score (X_test, y_test): 0.5533333333333333\n",
      "Score (X_val, y_val): 0.5666666666666667\n",
      "\n",
      "\n",
      "\n",
      "Score (X_train, y_train): 0.5315626077957917\n",
      "Score (X_test, y_test): 0.5865384615384616\n",
      "Score (X_val, y_val): 0.890625\n",
      "\n",
      "\n",
      "\n",
      "Score (X_train, y_train): 0.49586064160055193\n",
      "Score (X_test, y_test): 0.6947368421052632\n",
      "Score (X_val, y_val): 0.7951219512195122\n",
      "\n",
      "\n",
      "\n",
      "Score (X_train, y_train): 0.4796481545360469\n",
      "Score (X_test, y_test): 0.75\n",
      "Score (X_val, y_val): 0.5285714285714286\n",
      "\n",
      "\n",
      "\n"
     ]
    }
   ],
   "source": [
    "result = []\n",
    "\n",
    "# 資料\n",
    "for t, v, date in zip(train_data_list, validation_data_list, date_list):\n",
    "    train = t.copy()\n",
    "    val = v.copy()\n",
    "    \n",
    "    classifier, X_test, y_test, y_pred, y_val, y_pre, val = train_data(train, val)\n",
    "    \n",
    "    print(\"Score (X_train, y_train):\", classifier.score(X_train, y_train))\n",
    "    print(\"Score (X_test, y_test):\", accuracy_score(y_test, y_pred))\n",
    "    print(\"Score (X_val, y_val):\", accuracy_score(y_val, y_pre))\n",
    "    print('\\n\\n')\n",
    "    \n",
    "    true_idx = val[['post_time', '標記']].drop_duplicates()['標記'].reset_index(drop=True)\n",
    "    \n",
    "    # 建構一個df 來作為計算當日分類出的漲跌件比例的 dataframe\n",
    "    v_df = val.groupby('post_time')['預測標記'].value_counts().unstack(fill_value=0)\n",
    "    v_df['max_count_ratio'] = v_df.apply(lambda row: max(row) / row.sum(), axis=1)\n",
    "    \n",
    "    v_df['pred_index'] = v_df.apply(lambda row: 1 if row.get(1, 0) >= row.get(0, 0) else 0, axis=1)\n",
    "    v_df.reset_index(inplace=True)\n",
    "    v_df['true_index'] = true_idx\n",
    "    \n",
    "    #計算出手率與準確率\n",
    "    shooting_rate, accuracy_rate = calculate_accuracy_and_shooting_rate(v_df)\n",
    "    \n",
    "    result.append((date, shooting_rate, accuracy_rate))"
   ]
  },
  {
   "cell_type": "code",
   "execution_count": null,
   "id": "12904c55",
   "metadata": {},
   "outputs": [],
   "source": []
  },
  {
   "cell_type": "code",
   "execution_count": 64,
   "id": "41e4b9c8",
   "metadata": {},
   "outputs": [
    {
     "name": "stdout",
     "output_type": "stream",
     "text": [
      "出手率:100.00% 準確率:100.00%\n",
      "出手率:100.00% 準確率:50.00%\n",
      "出手率:100.00% 準確率:18.18%\n",
      "出手率:100.00% 準確率:63.64%\n",
      "出手率:100.00% 準確率:100.00%\n",
      "出手率:100.00% 準確率:33.33%\n",
      "出手率:100.00% 準確率:62.50%\n",
      "出手率:100.00% 準確率:28.57%\n",
      "出手率:60.00% 準確率:66.67%\n",
      "出手率:100.00% 準確率:20.00%\n",
      "出手率:0.00% 準確率:0.00%\n",
      "出手率:100.00% 準確率:100.00%\n",
      "出手率:50.00% 準確率:100.00%\n",
      "出手率:100.00% 準確率:57.14%\n",
      "出手率:100.00% 準確率:66.67%\n",
      "出手率:100.00% 準確率:100.00%\n",
      "出手率:100.00% 準確率:20.00%\n",
      "出手率:75.00% 準確率:33.33%\n",
      "出手率:100.00% 準確率:100.00%\n",
      "出手率:100.00% 準確率:80.00%\n",
      "出手率:100.00% 準確率:50.00%\n",
      "平均出手率: 94.25% 平均準確率: 62.50%\n"
     ]
    }
   ],
   "source": [
    "#計算平均出手率,準確率 \n",
    "shooting_rate_sum = 0\n",
    "accuracy_rate_sum = 0\n",
    "num_results = 0\n",
    "\n",
    "for r in result:\n",
    "    print(f\"出手率:{r[1]:.2f}% 準確率:{r[2]:.2f}%\")\n",
    "    if r[1] != 0:\n",
    "        shooting_rate_sum += r[1]\n",
    "        accuracy_rate_sum += r[2]\n",
    "        num_results += 1\n",
    "\n",
    "\n",
    "#計算平均出手率,平均準確率 \n",
    "shooting_rate_avg = shooting_rate_sum / num_results\n",
    "accuracy_rate_avg = accuracy_rate_sum / num_results\n",
    "\n",
    "print(f\"平均出手率: {shooting_rate_avg:.2f}% 平均準確率: {accuracy_rate_avg:.2f}%\")"
   ]
  },
  {
   "cell_type": "code",
   "execution_count": null,
   "id": "aac47c10",
   "metadata": {},
   "outputs": [],
   "source": []
  }
 ],
 "metadata": {
  "kernelspec": {
   "display_name": "Python 3 (ipykernel)",
   "language": "python",
   "name": "python3"
  },
  "language_info": {
   "codemirror_mode": {
    "name": "ipython",
    "version": 3
   },
   "file_extension": ".py",
   "mimetype": "text/x-python",
   "name": "python",
   "nbconvert_exporter": "python",
   "pygments_lexer": "ipython3",
   "version": "3.9.12"
  }
 },
 "nbformat": 4,
 "nbformat_minor": 5
}
